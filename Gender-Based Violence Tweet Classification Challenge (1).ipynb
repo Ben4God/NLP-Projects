{
 "cells": [
  {
   "cell_type": "code",
   "execution_count": 54,
   "id": "26a8121b",
   "metadata": {},
   "outputs": [
    {
     "name": "stderr",
     "output_type": "stream",
     "text": [
      "[nltk_data] Downloading package stopwords to\n",
      "[nltk_data]     C:\\Users\\user\\AppData\\Roaming\\nltk_data...\n",
      "[nltk_data]   Package stopwords is already up-to-date!\n",
      "[nltk_data] Downloading package punkt to\n",
      "[nltk_data]     C:\\Users\\user\\AppData\\Roaming\\nltk_data...\n",
      "[nltk_data]   Package punkt is already up-to-date!\n",
      "[nltk_data] Downloading package wordnet to\n",
      "[nltk_data]     C:\\Users\\user\\AppData\\Roaming\\nltk_data...\n",
      "[nltk_data]   Package wordnet is already up-to-date!\n"
     ]
    }
   ],
   "source": [
    "#import the python libraries\n",
    "import numpy as np\n",
    "import pandas as pd\n",
    "import matplotlib.pyplot as plt\n",
    "import seaborn as sns\n",
    "import re\n",
    "import nltk\n",
    "from nltk.tokenize import word_tokenize\n",
    "from nltk.corpus import stopwords\n",
    "import string\n",
    "nltk.download('stopwords')\n",
    "nltk.download('punkt')\n",
    "from nltk.stem import WordNetLemmatizer\n",
    "nltk.download('wordnet')\n",
    "from gensim.models import Word2Vec\n",
    "from nltk.stem import PorterStemmer"
   ]
  },
  {
   "cell_type": "code",
   "execution_count": 2,
   "id": "95cafd1b",
   "metadata": {},
   "outputs": [
    {
     "data": {
      "text/html": [
       "<div>\n",
       "<style scoped>\n",
       "    .dataframe tbody tr th:only-of-type {\n",
       "        vertical-align: middle;\n",
       "    }\n",
       "\n",
       "    .dataframe tbody tr th {\n",
       "        vertical-align: top;\n",
       "    }\n",
       "\n",
       "    .dataframe thead th {\n",
       "        text-align: right;\n",
       "    }\n",
       "</style>\n",
       "<table border=\"1\" class=\"dataframe\">\n",
       "  <thead>\n",
       "    <tr style=\"text-align: right;\">\n",
       "      <th></th>\n",
       "      <th>Tweet_ID</th>\n",
       "      <th>tweet</th>\n",
       "      <th>type</th>\n",
       "    </tr>\n",
       "  </thead>\n",
       "  <tbody>\n",
       "    <tr>\n",
       "      <th>0</th>\n",
       "      <td>ID_0022DWKP</td>\n",
       "      <td>Had a dream i got raped last night. By a guy i...</td>\n",
       "      <td>sexual_violence</td>\n",
       "    </tr>\n",
       "    <tr>\n",
       "      <th>1</th>\n",
       "      <td>ID_00395QYM</td>\n",
       "      <td>he thought the word raped means sex and told m...</td>\n",
       "      <td>sexual_violence</td>\n",
       "    </tr>\n",
       "    <tr>\n",
       "      <th>2</th>\n",
       "      <td>ID_003EOSSF</td>\n",
       "      <td>She NOT TALKING TO ME I WAS RAPED BY 2 MEN 1 M...</td>\n",
       "      <td>sexual_violence</td>\n",
       "    </tr>\n",
       "    <tr>\n",
       "      <th>3</th>\n",
       "      <td>ID_004BBHOD</td>\n",
       "      <td>I was sexually abused for 3 years at age 4 to ...</td>\n",
       "      <td>sexual_violence</td>\n",
       "    </tr>\n",
       "    <tr>\n",
       "      <th>4</th>\n",
       "      <td>ID_004F7516</td>\n",
       "      <td>Chessy Prout can do better by telling the trut...</td>\n",
       "      <td>sexual_violence</td>\n",
       "    </tr>\n",
       "    <tr>\n",
       "      <th>...</th>\n",
       "      <td>...</td>\n",
       "      <td>...</td>\n",
       "      <td>...</td>\n",
       "    </tr>\n",
       "    <tr>\n",
       "      <th>39645</th>\n",
       "      <td>ID_ZZTLP2L5</td>\n",
       "      <td>ENTRY 1299: 21F. 23M, BFâs cousin. Got drunk...</td>\n",
       "      <td>sexual_violence</td>\n",
       "    </tr>\n",
       "    <tr>\n",
       "      <th>39646</th>\n",
       "      <td>ID_ZZXB10M6</td>\n",
       "      <td>So youâre telling me Emmanuel Macron was gro...</td>\n",
       "      <td>sexual_violence</td>\n",
       "    </tr>\n",
       "    <tr>\n",
       "      <th>39647</th>\n",
       "      <td>ID_ZZY8B7FJ</td>\n",
       "      <td>My wife regularly beats me, I get dirty slaps ...</td>\n",
       "      <td>Physical_violence</td>\n",
       "    </tr>\n",
       "    <tr>\n",
       "      <th>39648</th>\n",
       "      <td>ID_ZZYAFD8L</td>\n",
       "      <td>Me: Hey babe! Police officer boyfriend: is tha...</td>\n",
       "      <td>sexual_violence</td>\n",
       "    </tr>\n",
       "    <tr>\n",
       "      <th>39649</th>\n",
       "      <td>ID_ZZZ8QEKT</td>\n",
       "      <td>âI will take accountability if you think itâ...</td>\n",
       "      <td>sexual_violence</td>\n",
       "    </tr>\n",
       "  </tbody>\n",
       "</table>\n",
       "<p>39650 rows × 3 columns</p>\n",
       "</div>"
      ],
      "text/plain": [
       "          Tweet_ID                                              tweet  \\\n",
       "0      ID_0022DWKP  Had a dream i got raped last night. By a guy i...   \n",
       "1      ID_00395QYM  he thought the word raped means sex and told m...   \n",
       "2      ID_003EOSSF  She NOT TALKING TO ME I WAS RAPED BY 2 MEN 1 M...   \n",
       "3      ID_004BBHOD  I was sexually abused for 3 years at age 4 to ...   \n",
       "4      ID_004F7516  Chessy Prout can do better by telling the trut...   \n",
       "...            ...                                                ...   \n",
       "39645  ID_ZZTLP2L5  ENTRY 1299: 21F. 23M, BFâs cousin. Got drunk...   \n",
       "39646  ID_ZZXB10M6  So youâre telling me Emmanuel Macron was gro...   \n",
       "39647  ID_ZZY8B7FJ  My wife regularly beats me, I get dirty slaps ...   \n",
       "39648  ID_ZZYAFD8L  Me: Hey babe! Police officer boyfriend: is tha...   \n",
       "39649  ID_ZZZ8QEKT  âI will take accountability if you think itâ...   \n",
       "\n",
       "                    type  \n",
       "0        sexual_violence  \n",
       "1        sexual_violence  \n",
       "2        sexual_violence  \n",
       "3        sexual_violence  \n",
       "4        sexual_violence  \n",
       "...                  ...  \n",
       "39645    sexual_violence  \n",
       "39646    sexual_violence  \n",
       "39647  Physical_violence  \n",
       "39648    sexual_violence  \n",
       "39649    sexual_violence  \n",
       "\n",
       "[39650 rows x 3 columns]"
      ]
     },
     "execution_count": 2,
     "metadata": {},
     "output_type": "execute_result"
    }
   ],
   "source": [
    "#load the dataset\n",
    "df = pd.read_csv(\"C:/Users/user/OneDrive/Documents/Data Science Projects/NLP projects/Gender Based Violence Tweet Classification/train (3).csv\", encoding = \"latin\")\n",
    "df"
   ]
  },
  {
   "cell_type": "code",
   "execution_count": 3,
   "id": "e560cfa5",
   "metadata": {},
   "outputs": [
    {
     "data": {
      "text/html": [
       "<div>\n",
       "<style scoped>\n",
       "    .dataframe tbody tr th:only-of-type {\n",
       "        vertical-align: middle;\n",
       "    }\n",
       "\n",
       "    .dataframe tbody tr th {\n",
       "        vertical-align: top;\n",
       "    }\n",
       "\n",
       "    .dataframe thead th {\n",
       "        text-align: right;\n",
       "    }\n",
       "</style>\n",
       "<table border=\"1\" class=\"dataframe\">\n",
       "  <thead>\n",
       "    <tr style=\"text-align: right;\">\n",
       "      <th></th>\n",
       "      <th>Tweet_ID</th>\n",
       "      <th>tweet</th>\n",
       "      <th>type</th>\n",
       "    </tr>\n",
       "  </thead>\n",
       "  <tbody>\n",
       "    <tr>\n",
       "      <th>0</th>\n",
       "      <td>ID_0022DWKP</td>\n",
       "      <td>Had a dream i got raped last night. By a guy i...</td>\n",
       "      <td>sexual_violence</td>\n",
       "    </tr>\n",
       "    <tr>\n",
       "      <th>1</th>\n",
       "      <td>ID_00395QYM</td>\n",
       "      <td>he thought the word raped means sex and told m...</td>\n",
       "      <td>sexual_violence</td>\n",
       "    </tr>\n",
       "    <tr>\n",
       "      <th>2</th>\n",
       "      <td>ID_003EOSSF</td>\n",
       "      <td>She NOT TALKING TO ME I WAS RAPED BY 2 MEN 1 M...</td>\n",
       "      <td>sexual_violence</td>\n",
       "    </tr>\n",
       "    <tr>\n",
       "      <th>3</th>\n",
       "      <td>ID_004BBHOD</td>\n",
       "      <td>I was sexually abused for 3 years at age 4 to ...</td>\n",
       "      <td>sexual_violence</td>\n",
       "    </tr>\n",
       "    <tr>\n",
       "      <th>4</th>\n",
       "      <td>ID_004F7516</td>\n",
       "      <td>Chessy Prout can do better by telling the trut...</td>\n",
       "      <td>sexual_violence</td>\n",
       "    </tr>\n",
       "  </tbody>\n",
       "</table>\n",
       "</div>"
      ],
      "text/plain": [
       "      Tweet_ID                                              tweet  \\\n",
       "0  ID_0022DWKP  Had a dream i got raped last night. By a guy i...   \n",
       "1  ID_00395QYM  he thought the word raped means sex and told m...   \n",
       "2  ID_003EOSSF  She NOT TALKING TO ME I WAS RAPED BY 2 MEN 1 M...   \n",
       "3  ID_004BBHOD  I was sexually abused for 3 years at age 4 to ...   \n",
       "4  ID_004F7516  Chessy Prout can do better by telling the trut...   \n",
       "\n",
       "              type  \n",
       "0  sexual_violence  \n",
       "1  sexual_violence  \n",
       "2  sexual_violence  \n",
       "3  sexual_violence  \n",
       "4  sexual_violence  "
      ]
     },
     "execution_count": 3,
     "metadata": {},
     "output_type": "execute_result"
    }
   ],
   "source": [
    "df.head()"
   ]
  },
  {
   "cell_type": "code",
   "execution_count": 4,
   "id": "e503a2b5",
   "metadata": {},
   "outputs": [
    {
     "data": {
      "text/html": [
       "<div>\n",
       "<style scoped>\n",
       "    .dataframe tbody tr th:only-of-type {\n",
       "        vertical-align: middle;\n",
       "    }\n",
       "\n",
       "    .dataframe tbody tr th {\n",
       "        vertical-align: top;\n",
       "    }\n",
       "\n",
       "    .dataframe thead th {\n",
       "        text-align: right;\n",
       "    }\n",
       "</style>\n",
       "<table border=\"1\" class=\"dataframe\">\n",
       "  <thead>\n",
       "    <tr style=\"text-align: right;\">\n",
       "      <th></th>\n",
       "      <th>Tweet_ID</th>\n",
       "      <th>tweet</th>\n",
       "      <th>type</th>\n",
       "    </tr>\n",
       "  </thead>\n",
       "  <tbody>\n",
       "    <tr>\n",
       "      <th>39645</th>\n",
       "      <td>ID_ZZTLP2L5</td>\n",
       "      <td>ENTRY 1299: 21F. 23M, BFâs cousin. Got drunk...</td>\n",
       "      <td>sexual_violence</td>\n",
       "    </tr>\n",
       "    <tr>\n",
       "      <th>39646</th>\n",
       "      <td>ID_ZZXB10M6</td>\n",
       "      <td>So youâre telling me Emmanuel Macron was gro...</td>\n",
       "      <td>sexual_violence</td>\n",
       "    </tr>\n",
       "    <tr>\n",
       "      <th>39647</th>\n",
       "      <td>ID_ZZY8B7FJ</td>\n",
       "      <td>My wife regularly beats me, I get dirty slaps ...</td>\n",
       "      <td>Physical_violence</td>\n",
       "    </tr>\n",
       "    <tr>\n",
       "      <th>39648</th>\n",
       "      <td>ID_ZZYAFD8L</td>\n",
       "      <td>Me: Hey babe! Police officer boyfriend: is tha...</td>\n",
       "      <td>sexual_violence</td>\n",
       "    </tr>\n",
       "    <tr>\n",
       "      <th>39649</th>\n",
       "      <td>ID_ZZZ8QEKT</td>\n",
       "      <td>âI will take accountability if you think itâ...</td>\n",
       "      <td>sexual_violence</td>\n",
       "    </tr>\n",
       "  </tbody>\n",
       "</table>\n",
       "</div>"
      ],
      "text/plain": [
       "          Tweet_ID                                              tweet  \\\n",
       "39645  ID_ZZTLP2L5  ENTRY 1299: 21F. 23M, BFâs cousin. Got drunk...   \n",
       "39646  ID_ZZXB10M6  So youâre telling me Emmanuel Macron was gro...   \n",
       "39647  ID_ZZY8B7FJ  My wife regularly beats me, I get dirty slaps ...   \n",
       "39648  ID_ZZYAFD8L  Me: Hey babe! Police officer boyfriend: is tha...   \n",
       "39649  ID_ZZZ8QEKT  âI will take accountability if you think itâ...   \n",
       "\n",
       "                    type  \n",
       "39645    sexual_violence  \n",
       "39646    sexual_violence  \n",
       "39647  Physical_violence  \n",
       "39648    sexual_violence  \n",
       "39649    sexual_violence  "
      ]
     },
     "execution_count": 4,
     "metadata": {},
     "output_type": "execute_result"
    }
   ],
   "source": [
    "df.tail()"
   ]
  },
  {
   "cell_type": "code",
   "execution_count": 74,
   "id": "f19107be",
   "metadata": {},
   "outputs": [
    {
     "data": {
      "text/html": [
       "<div>\n",
       "<style scoped>\n",
       "    .dataframe tbody tr th:only-of-type {\n",
       "        vertical-align: middle;\n",
       "    }\n",
       "\n",
       "    .dataframe tbody tr th {\n",
       "        vertical-align: top;\n",
       "    }\n",
       "\n",
       "    .dataframe thead th {\n",
       "        text-align: right;\n",
       "    }\n",
       "</style>\n",
       "<table border=\"1\" class=\"dataframe\">\n",
       "  <thead>\n",
       "    <tr style=\"text-align: right;\">\n",
       "      <th></th>\n",
       "      <th>Tweet_ID</th>\n",
       "      <th>tweet</th>\n",
       "      <th>type</th>\n",
       "      <th>Tweet</th>\n",
       "    </tr>\n",
       "  </thead>\n",
       "  <tbody>\n",
       "    <tr>\n",
       "      <th>0</th>\n",
       "      <td>ID_0022DWKP</td>\n",
       "      <td>Had a dream i got raped last night. By a guy i...</td>\n",
       "      <td>sexual_violence</td>\n",
       "      <td>dream got raped last night guy work actually g...</td>\n",
       "    </tr>\n",
       "    <tr>\n",
       "      <th>1</th>\n",
       "      <td>ID_00395QYM</td>\n",
       "      <td>he thought the word raped means sex and told m...</td>\n",
       "      <td>sexual_violence</td>\n",
       "      <td>thought word raped means sex told âi saw dogs ...</td>\n",
       "    </tr>\n",
       "    <tr>\n",
       "      <th>2</th>\n",
       "      <td>ID_003EOSSF</td>\n",
       "      <td>She NOT TALKING TO ME I WAS RAPED BY 2 MEN 1 M...</td>\n",
       "      <td>sexual_violence</td>\n",
       "      <td>talking raped 2 men 1 molested jail nother cha...</td>\n",
       "    </tr>\n",
       "    <tr>\n",
       "      <th>3</th>\n",
       "      <td>ID_004BBHOD</td>\n",
       "      <td>I was sexually abused for 3 years at age 4 to ...</td>\n",
       "      <td>sexual_violence</td>\n",
       "      <td>sexually abused 3 years age 4 7 one believed r...</td>\n",
       "    </tr>\n",
       "    <tr>\n",
       "      <th>4</th>\n",
       "      <td>ID_004F7516</td>\n",
       "      <td>Chessy Prout can do better by telling the trut...</td>\n",
       "      <td>sexual_violence</td>\n",
       "      <td>chessy prout better telling truth selling owen...</td>\n",
       "    </tr>\n",
       "  </tbody>\n",
       "</table>\n",
       "</div>"
      ],
      "text/plain": [
       "      Tweet_ID                                              tweet  \\\n",
       "0  ID_0022DWKP  Had a dream i got raped last night. By a guy i...   \n",
       "1  ID_00395QYM  he thought the word raped means sex and told m...   \n",
       "2  ID_003EOSSF  She NOT TALKING TO ME I WAS RAPED BY 2 MEN 1 M...   \n",
       "3  ID_004BBHOD  I was sexually abused for 3 years at age 4 to ...   \n",
       "4  ID_004F7516  Chessy Prout can do better by telling the trut...   \n",
       "\n",
       "              type                                              Tweet  \n",
       "0  sexual_violence  dream got raped last night guy work actually g...  \n",
       "1  sexual_violence  thought word raped means sex told âi saw dogs ...  \n",
       "2  sexual_violence  talking raped 2 men 1 molested jail nother cha...  \n",
       "3  sexual_violence  sexually abused 3 years age 4 7 one believed r...  \n",
       "4  sexual_violence  chessy prout better telling truth selling owen...  "
      ]
     },
     "execution_count": 74,
     "metadata": {},
     "output_type": "execute_result"
    }
   ],
   "source": [
    "def preprocess_text(text):\n",
    "    # Convert text to lowercase\n",
    "    text = text.lower()\n",
    "    text = ''.join(char for char in text if char.isalnum() or char.isspace())\n",
    "    # Remove stopwords\n",
    "    stop_words = set(stopwords.words('english'))\n",
    "    word_tokens = word_tokenize(text)\n",
    "    porter = PorterStemmer()\n",
    "    text = [porter.stem(text) for text in text]\n",
    "    filtered_text = [word for word in word_tokens if word not in stop_words]\n",
    "    # Join filtered tokens\n",
    "    text = ' '.join(filtered_text)\n",
    "    lemmatizer = WordNetLemmatizer()\n",
    "    lemmatized_tokens = [lemmatizer.lemmatize(word) for word in text]\n",
    "\n",
    "    # Join lemmatized tokens back into text\n",
    "    preprocessed_text = ' '.join(lemmatized_tokens)\n",
    "    return text\n",
    "# Apply preprocessing to the text data\n",
    "df['Tweet'] = df['tweet'].apply(preprocess_text)\n",
    "df.head()"
   ]
  },
  {
   "cell_type": "code",
   "execution_count": null,
   "id": "bc4836a6",
   "metadata": {},
   "outputs": [],
   "source": []
  },
  {
   "cell_type": "code",
   "execution_count": 75,
   "id": "28d14620",
   "metadata": {},
   "outputs": [
    {
     "data": {
      "text/html": [
       "<div>\n",
       "<style scoped>\n",
       "    .dataframe tbody tr th:only-of-type {\n",
       "        vertical-align: middle;\n",
       "    }\n",
       "\n",
       "    .dataframe tbody tr th {\n",
       "        vertical-align: top;\n",
       "    }\n",
       "\n",
       "    .dataframe thead th {\n",
       "        text-align: right;\n",
       "    }\n",
       "</style>\n",
       "<table border=\"1\" class=\"dataframe\">\n",
       "  <thead>\n",
       "    <tr style=\"text-align: right;\">\n",
       "      <th></th>\n",
       "      <th>Tweet_ID</th>\n",
       "      <th>tweet</th>\n",
       "      <th>type</th>\n",
       "      <th>Tweet</th>\n",
       "    </tr>\n",
       "  </thead>\n",
       "  <tbody>\n",
       "    <tr>\n",
       "      <th>0</th>\n",
       "      <td>ID_0022DWKP</td>\n",
       "      <td>Had a dream i got raped last night. By a guy i...</td>\n",
       "      <td>sexual_violence</td>\n",
       "      <td>dream got raped last night guy work actually g...</td>\n",
       "    </tr>\n",
       "    <tr>\n",
       "      <th>1</th>\n",
       "      <td>ID_00395QYM</td>\n",
       "      <td>he thought the word raped means sex and told m...</td>\n",
       "      <td>sexual_violence</td>\n",
       "      <td>thought word raped means sex told âi saw dogs ...</td>\n",
       "    </tr>\n",
       "    <tr>\n",
       "      <th>2</th>\n",
       "      <td>ID_003EOSSF</td>\n",
       "      <td>She NOT TALKING TO ME I WAS RAPED BY 2 MEN 1 M...</td>\n",
       "      <td>sexual_violence</td>\n",
       "      <td>talking raped 2 men 1 molested jail nother cha...</td>\n",
       "    </tr>\n",
       "    <tr>\n",
       "      <th>3</th>\n",
       "      <td>ID_004BBHOD</td>\n",
       "      <td>I was sexually abused for 3 years at age 4 to ...</td>\n",
       "      <td>sexual_violence</td>\n",
       "      <td>sexually abused 3 years age 4 7 one believed r...</td>\n",
       "    </tr>\n",
       "    <tr>\n",
       "      <th>4</th>\n",
       "      <td>ID_004F7516</td>\n",
       "      <td>Chessy Prout can do better by telling the trut...</td>\n",
       "      <td>sexual_violence</td>\n",
       "      <td>chessy prout better telling truth selling owen...</td>\n",
       "    </tr>\n",
       "    <tr>\n",
       "      <th>...</th>\n",
       "      <td>...</td>\n",
       "      <td>...</td>\n",
       "      <td>...</td>\n",
       "      <td>...</td>\n",
       "    </tr>\n",
       "    <tr>\n",
       "      <th>39645</th>\n",
       "      <td>ID_ZZTLP2L5</td>\n",
       "      <td>ENTRY 1299: 21F. 23M, BFâs cousin. Got drunk...</td>\n",
       "      <td>sexual_violence</td>\n",
       "      <td>entry 1299 21f 23m bfâs cousin got drunk hallo...</td>\n",
       "    </tr>\n",
       "    <tr>\n",
       "      <th>39646</th>\n",
       "      <td>ID_ZZXB10M6</td>\n",
       "      <td>So youâre telling me Emmanuel Macron was gro...</td>\n",
       "      <td>sexual_violence</td>\n",
       "      <td>youâre telling emmanuel macron groomed maybe e...</td>\n",
       "    </tr>\n",
       "    <tr>\n",
       "      <th>39647</th>\n",
       "      <td>ID_ZZY8B7FJ</td>\n",
       "      <td>My wife regularly beats me, I get dirty slaps ...</td>\n",
       "      <td>Physical_violence</td>\n",
       "      <td>wife regularly beats get dirty slaps â husband...</td>\n",
       "    </tr>\n",
       "    <tr>\n",
       "      <th>39648</th>\n",
       "      <td>ID_ZZYAFD8L</td>\n",
       "      <td>Me: Hey babe! Police officer boyfriend: is tha...</td>\n",
       "      <td>sexual_violence</td>\n",
       "      <td>hey babe police officer boyfriend meyes babe g...</td>\n",
       "    </tr>\n",
       "    <tr>\n",
       "      <th>39649</th>\n",
       "      <td>ID_ZZZ8QEKT</td>\n",
       "      <td>âI will take accountability if you think itâ...</td>\n",
       "      <td>sexual_violence</td>\n",
       "      <td>âi take accountability think itâs ok live tenn...</td>\n",
       "    </tr>\n",
       "  </tbody>\n",
       "</table>\n",
       "<p>39650 rows × 4 columns</p>\n",
       "</div>"
      ],
      "text/plain": [
       "          Tweet_ID                                              tweet  \\\n",
       "0      ID_0022DWKP  Had a dream i got raped last night. By a guy i...   \n",
       "1      ID_00395QYM  he thought the word raped means sex and told m...   \n",
       "2      ID_003EOSSF  She NOT TALKING TO ME I WAS RAPED BY 2 MEN 1 M...   \n",
       "3      ID_004BBHOD  I was sexually abused for 3 years at age 4 to ...   \n",
       "4      ID_004F7516  Chessy Prout can do better by telling the trut...   \n",
       "...            ...                                                ...   \n",
       "39645  ID_ZZTLP2L5  ENTRY 1299: 21F. 23M, BFâs cousin. Got drunk...   \n",
       "39646  ID_ZZXB10M6  So youâre telling me Emmanuel Macron was gro...   \n",
       "39647  ID_ZZY8B7FJ  My wife regularly beats me, I get dirty slaps ...   \n",
       "39648  ID_ZZYAFD8L  Me: Hey babe! Police officer boyfriend: is tha...   \n",
       "39649  ID_ZZZ8QEKT  âI will take accountability if you think itâ...   \n",
       "\n",
       "                    type                                              Tweet  \n",
       "0        sexual_violence  dream got raped last night guy work actually g...  \n",
       "1        sexual_violence  thought word raped means sex told âi saw dogs ...  \n",
       "2        sexual_violence  talking raped 2 men 1 molested jail nother cha...  \n",
       "3        sexual_violence  sexually abused 3 years age 4 7 one believed r...  \n",
       "4        sexual_violence  chessy prout better telling truth selling owen...  \n",
       "...                  ...                                                ...  \n",
       "39645    sexual_violence  entry 1299 21f 23m bfâs cousin got drunk hallo...  \n",
       "39646    sexual_violence  youâre telling emmanuel macron groomed maybe e...  \n",
       "39647  Physical_violence  wife regularly beats get dirty slaps â husband...  \n",
       "39648    sexual_violence  hey babe police officer boyfriend meyes babe g...  \n",
       "39649    sexual_violence  âi take accountability think itâs ok live tenn...  \n",
       "\n",
       "[39650 rows x 4 columns]"
      ]
     },
     "execution_count": 75,
     "metadata": {},
     "output_type": "execute_result"
    }
   ],
   "source": [
    "df"
   ]
  },
  {
   "cell_type": "code",
   "execution_count": 76,
   "id": "738dc862",
   "metadata": {},
   "outputs": [],
   "source": [
    "from sklearn.model_selection import train_test_split\n",
    "from sklearn.feature_extraction.text import CountVectorizer\n",
    "from sklearn.feature_extraction.text import TfidfVectorizer\n",
    "from sklearn.svm import SVC\n",
    "from sklearn.naive_bayes import MultinomialNB\n",
    "from sklearn.metrics import classification_report\n",
    "from sklearn.ensemble import RandomForestRegressor\n",
    "from sklearn.metrics import accuracy_score\n",
    "from sklearn.linear_model import LogisticRegression\n",
    "from sklearn.pipeline import make_pipeline\n",
    "from sklearn.preprocessing import StandardScaler\n",
    "from sklearn.ensemble import RandomForestClassifier\n",
    "from sklearn.ensemble import GradientBoostingClassifier"
   ]
  },
  {
   "cell_type": "code",
   "execution_count": 77,
   "id": "a80976d1",
   "metadata": {},
   "outputs": [],
   "source": [
    "vectorizer = TfidfVectorizer(max_features=1000)"
   ]
  },
  {
   "cell_type": "code",
   "execution_count": 78,
   "id": "7eb3f910",
   "metadata": {},
   "outputs": [],
   "source": [
    "X = df['Tweet']\n",
    "y = df['type']"
   ]
  },
  {
   "cell_type": "code",
   "execution_count": 79,
   "id": "5cbf736a",
   "metadata": {},
   "outputs": [],
   "source": [
    "#X_train, X_test, y_train, y_test = train_test_split(X, df['type'], test_size = 0.2, random_state = 42)"
   ]
  },
  {
   "cell_type": "code",
   "execution_count": 80,
   "id": "a77e7eb6",
   "metadata": {},
   "outputs": [],
   "source": [
    "#X_train = vectorizer.fit_transform(X_train)\n",
    "#X_test = vectorizer.transform(X_test)"
   ]
  },
  {
   "cell_type": "code",
   "execution_count": 81,
   "id": "f16901ab",
   "metadata": {},
   "outputs": [
    {
     "data": {
      "text/plain": [
       "0          sexual_violence\n",
       "1          sexual_violence\n",
       "2          sexual_violence\n",
       "3          sexual_violence\n",
       "4          sexual_violence\n",
       "               ...        \n",
       "39645      sexual_violence\n",
       "39646      sexual_violence\n",
       "39647    Physical_violence\n",
       "39648      sexual_violence\n",
       "39649      sexual_violence\n",
       "Name: type, Length: 39650, dtype: object"
      ]
     },
     "execution_count": 81,
     "metadata": {},
     "output_type": "execute_result"
    }
   ],
   "source": [
    "X_tr = vectorizer.fit_transform(X)\n",
    "y"
   ]
  },
  {
   "cell_type": "markdown",
   "id": "96be1ca2",
   "metadata": {},
   "source": [
    "GRADIENT BOOSTING CLASSIFIER"
   ]
  },
  {
   "cell_type": "code",
   "execution_count": 82,
   "id": "44060225",
   "metadata": {},
   "outputs": [
    {
     "data": {
      "text/plain": [
       "GradientBoostingClassifier(random_state=42)"
      ]
     },
     "execution_count": 82,
     "metadata": {},
     "output_type": "execute_result"
    }
   ],
   "source": [
    "gbm_classifier = GradientBoostingClassifier(n_estimators=100, learning_rate=0.1, max_depth=3, random_state=42)\n",
    "gbm_classifier.fit(X_tr, y)"
   ]
  },
  {
   "cell_type": "code",
   "execution_count": 83,
   "id": "126d0726",
   "metadata": {},
   "outputs": [
    {
     "data": {
      "text/plain": [
       "0.9998991172761664"
      ]
     },
     "execution_count": 83,
     "metadata": {},
     "output_type": "execute_result"
    }
   ],
   "source": [
    "y_val_pred = gbm_classifier.predict(X_tr)\n",
    "accuracy_score(y, y_val_pred)"
   ]
  },
  {
   "cell_type": "code",
   "execution_count": 23,
   "id": "9191a41d",
   "metadata": {},
   "outputs": [],
   "source": []
  },
  {
   "cell_type": "code",
   "execution_count": null,
   "id": "895630ca",
   "metadata": {},
   "outputs": [],
   "source": []
  },
  {
   "cell_type": "markdown",
   "id": "550f2ca6",
   "metadata": {},
   "source": [
    "SUPPORT VECTOR MACHINE"
   ]
  },
  {
   "cell_type": "code",
   "execution_count": 76,
   "id": "bd32e7fb",
   "metadata": {},
   "outputs": [
    {
     "data": {
      "text/plain": [
       "SVC(kernel='linear')"
      ]
     },
     "execution_count": 76,
     "metadata": {},
     "output_type": "execute_result"
    }
   ],
   "source": [
    "svm_classifier = SVC(kernel='linear') \n",
    "svm_classifier.fit(X_tr, y)"
   ]
  },
  {
   "cell_type": "code",
   "execution_count": 48,
   "id": "1055154a",
   "metadata": {},
   "outputs": [
    {
     "data": {
      "text/plain": [
       "array(['sexual_violence', 'sexual_violence', 'sexual_violence', ...,\n",
       "       'Physical_violence', 'sexual_violence', 'sexual_violence'],\n",
       "      dtype=object)"
      ]
     },
     "execution_count": 48,
     "metadata": {},
     "output_type": "execute_result"
    }
   ],
   "source": [
    "y_pred = svm_classifier.predict(X_tr)\n",
    "y_pred"
   ]
  },
  {
   "cell_type": "code",
   "execution_count": 49,
   "id": "9e3a667c",
   "metadata": {},
   "outputs": [
    {
     "data": {
      "text/plain": [
       "0.9985372005044136"
      ]
     },
     "execution_count": 49,
     "metadata": {},
     "output_type": "execute_result"
    }
   ],
   "source": [
    "accuracy_score(y, y_pred)"
   ]
  },
  {
   "cell_type": "markdown",
   "id": "a503090c",
   "metadata": {},
   "source": [
    "LOGISTIC REGRESSION"
   ]
  },
  {
   "cell_type": "code",
   "execution_count": 50,
   "id": "1c69edf9",
   "metadata": {},
   "outputs": [
    {
     "data": {
      "text/plain": [
       "LogisticRegression()"
      ]
     },
     "execution_count": 50,
     "metadata": {},
     "output_type": "execute_result"
    }
   ],
   "source": [
    "model = LogisticRegression()\n",
    "model.fit(X_tr, y)"
   ]
  },
  {
   "cell_type": "code",
   "execution_count": 51,
   "id": "1ec42ed2",
   "metadata": {},
   "outputs": [
    {
     "data": {
      "text/plain": [
       "array(['sexual_violence', 'sexual_violence', 'sexual_violence', ...,\n",
       "       'Physical_violence', 'sexual_violence', 'sexual_violence'],\n",
       "      dtype=object)"
      ]
     },
     "execution_count": 51,
     "metadata": {},
     "output_type": "execute_result"
    }
   ],
   "source": [
    "y_predlog = model.predict(X_tr)\n",
    "y_predlog"
   ]
  },
  {
   "cell_type": "code",
   "execution_count": 52,
   "id": "280eb957",
   "metadata": {},
   "outputs": [
    {
     "data": {
      "text/plain": [
       "0.9966456494325346"
      ]
     },
     "execution_count": 52,
     "metadata": {},
     "output_type": "execute_result"
    }
   ],
   "source": [
    "accuracy_score(y, y_predlog)"
   ]
  },
  {
   "cell_type": "code",
   "execution_count": null,
   "id": "f18d1e94",
   "metadata": {},
   "outputs": [],
   "source": []
  },
  {
   "cell_type": "code",
   "execution_count": null,
   "id": "0667eb83",
   "metadata": {},
   "outputs": [],
   "source": []
  },
  {
   "cell_type": "code",
   "execution_count": 25,
   "id": "5da1b864",
   "metadata": {},
   "outputs": [
    {
     "data": {
      "text/html": [
       "<div>\n",
       "<style scoped>\n",
       "    .dataframe tbody tr th:only-of-type {\n",
       "        vertical-align: middle;\n",
       "    }\n",
       "\n",
       "    .dataframe tbody tr th {\n",
       "        vertical-align: top;\n",
       "    }\n",
       "\n",
       "    .dataframe thead th {\n",
       "        text-align: right;\n",
       "    }\n",
       "</style>\n",
       "<table border=\"1\" class=\"dataframe\">\n",
       "  <thead>\n",
       "    <tr style=\"text-align: right;\">\n",
       "      <th></th>\n",
       "      <th>Tweet_ID</th>\n",
       "      <th>tweet</th>\n",
       "    </tr>\n",
       "  </thead>\n",
       "  <tbody>\n",
       "    <tr>\n",
       "      <th>0</th>\n",
       "      <td>ID_0095QL4S</td>\n",
       "      <td>because he was my boyfriend, and if I said no,...</td>\n",
       "    </tr>\n",
       "    <tr>\n",
       "      <th>1</th>\n",
       "      <td>ID_00DREW5O</td>\n",
       "      <td>lol no, I'm telling you it's not legal. It's l...</td>\n",
       "    </tr>\n",
       "    <tr>\n",
       "      <th>2</th>\n",
       "      <td>ID_00E9F5X9</td>\n",
       "      <td>Somalia's semi-autonomous Puntland region has ...</td>\n",
       "    </tr>\n",
       "    <tr>\n",
       "      <th>3</th>\n",
       "      <td>ID_00G9OSKZ</td>\n",
       "      <td>University of Cape Coast students being robbed...</td>\n",
       "    </tr>\n",
       "    <tr>\n",
       "      <th>4</th>\n",
       "      <td>ID_00HU96U6</td>\n",
       "      <td>\"Somebody came up behind him and stabbed him i...</td>\n",
       "    </tr>\n",
       "    <tr>\n",
       "      <th>...</th>\n",
       "      <td>...</td>\n",
       "      <td>...</td>\n",
       "    </tr>\n",
       "    <tr>\n",
       "      <th>15576</th>\n",
       "      <td>ID_ZZR1D21T</td>\n",
       "      <td>A Teesside charity has filed a âsuper compla...</td>\n",
       "    </tr>\n",
       "    <tr>\n",
       "      <th>15577</th>\n",
       "      <td>ID_ZZSQF54Y</td>\n",
       "      <td>he ... forced me to have sex with him.</td>\n",
       "    </tr>\n",
       "    <tr>\n",
       "      <th>15578</th>\n",
       "      <td>ID_ZZTN5126</td>\n",
       "      <td>Female student of medical university raped at ...</td>\n",
       "    </tr>\n",
       "    <tr>\n",
       "      <th>15579</th>\n",
       "      <td>ID_ZZWS0XZZ</td>\n",
       "      <td>Bokamoso Mpembe (20 months) (Kidnapped and kil...</td>\n",
       "    </tr>\n",
       "    <tr>\n",
       "      <th>15580</th>\n",
       "      <td>ID_ZZZE5A5Q</td>\n",
       "      <td>Confession: Never Really Over reminds me of my...</td>\n",
       "    </tr>\n",
       "  </tbody>\n",
       "</table>\n",
       "<p>15581 rows × 2 columns</p>\n",
       "</div>"
      ],
      "text/plain": [
       "          Tweet_ID                                              tweet\n",
       "0      ID_0095QL4S  because he was my boyfriend, and if I said no,...\n",
       "1      ID_00DREW5O  lol no, I'm telling you it's not legal. It's l...\n",
       "2      ID_00E9F5X9  Somalia's semi-autonomous Puntland region has ...\n",
       "3      ID_00G9OSKZ  University of Cape Coast students being robbed...\n",
       "4      ID_00HU96U6  \"Somebody came up behind him and stabbed him i...\n",
       "...            ...                                                ...\n",
       "15576  ID_ZZR1D21T  A Teesside charity has filed a âsuper compla...\n",
       "15577  ID_ZZSQF54Y             he ... forced me to have sex with him.\n",
       "15578  ID_ZZTN5126  Female student of medical university raped at ...\n",
       "15579  ID_ZZWS0XZZ  Bokamoso Mpembe (20 months) (Kidnapped and kil...\n",
       "15580  ID_ZZZE5A5Q  Confession: Never Really Over reminds me of my...\n",
       "\n",
       "[15581 rows x 2 columns]"
      ]
     },
     "execution_count": 25,
     "metadata": {},
     "output_type": "execute_result"
    }
   ],
   "source": [
    "fd = pd.read_csv(\"C:/Users/user/OneDrive/Documents/Data Science Projects/NLP projects/Gender Based Violence Tweet Classification/Test (3).csv\", encoding = \"latin\")\n",
    "fd"
   ]
  },
  {
   "cell_type": "code",
   "execution_count": 26,
   "id": "078f2b7d",
   "metadata": {},
   "outputs": [
    {
     "data": {
      "text/html": [
       "<div>\n",
       "<style scoped>\n",
       "    .dataframe tbody tr th:only-of-type {\n",
       "        vertical-align: middle;\n",
       "    }\n",
       "\n",
       "    .dataframe tbody tr th {\n",
       "        vertical-align: top;\n",
       "    }\n",
       "\n",
       "    .dataframe thead th {\n",
       "        text-align: right;\n",
       "    }\n",
       "</style>\n",
       "<table border=\"1\" class=\"dataframe\">\n",
       "  <thead>\n",
       "    <tr style=\"text-align: right;\">\n",
       "      <th></th>\n",
       "      <th>Tweet_ID</th>\n",
       "      <th>tweet</th>\n",
       "      <th>Tweet</th>\n",
       "    </tr>\n",
       "  </thead>\n",
       "  <tbody>\n",
       "    <tr>\n",
       "      <th>0</th>\n",
       "      <td>ID_0095QL4S</td>\n",
       "      <td>because he was my boyfriend, and if I said no,...</td>\n",
       "      <td>boyfriend said would get mad hated sex forced ...</td>\n",
       "    </tr>\n",
       "    <tr>\n",
       "      <th>1</th>\n",
       "      <td>ID_00DREW5O</td>\n",
       "      <td>lol no, I'm telling you it's not legal. It's l...</td>\n",
       "      <td>lol im telling legal literally crime conversat...</td>\n",
       "    </tr>\n",
       "    <tr>\n",
       "      <th>2</th>\n",
       "      <td>ID_00E9F5X9</td>\n",
       "      <td>Somalia's semi-autonomous Puntland region has ...</td>\n",
       "      <td>somalias semiautonomous puntland region taken ...</td>\n",
       "    </tr>\n",
       "    <tr>\n",
       "      <th>3</th>\n",
       "      <td>ID_00G9OSKZ</td>\n",
       "      <td>University of Cape Coast students being robbed...</td>\n",
       "      <td>university cape coast students robbed raped ar...</td>\n",
       "    </tr>\n",
       "    <tr>\n",
       "      <th>4</th>\n",
       "      <td>ID_00HU96U6</td>\n",
       "      <td>\"Somebody came up behind him and stabbed him i...</td>\n",
       "      <td>somebody came behind stabbed back really long ...</td>\n",
       "    </tr>\n",
       "  </tbody>\n",
       "</table>\n",
       "</div>"
      ],
      "text/plain": [
       "      Tweet_ID                                              tweet  \\\n",
       "0  ID_0095QL4S  because he was my boyfriend, and if I said no,...   \n",
       "1  ID_00DREW5O  lol no, I'm telling you it's not legal. It's l...   \n",
       "2  ID_00E9F5X9  Somalia's semi-autonomous Puntland region has ...   \n",
       "3  ID_00G9OSKZ  University of Cape Coast students being robbed...   \n",
       "4  ID_00HU96U6  \"Somebody came up behind him and stabbed him i...   \n",
       "\n",
       "                                               Tweet  \n",
       "0  boyfriend said would get mad hated sex forced ...  \n",
       "1  lol im telling legal literally crime conversat...  \n",
       "2  somalias semiautonomous puntland region taken ...  \n",
       "3  university cape coast students robbed raped ar...  \n",
       "4  somebody came behind stabbed back really long ...  "
      ]
     },
     "execution_count": 26,
     "metadata": {},
     "output_type": "execute_result"
    }
   ],
   "source": [
    "def preprocess(text):\n",
    "    # Convert text to lowercase\n",
    "    text = text.lower()\n",
    "    text = ''.join(char for char in text if char.isalnum() or char.isspace())\n",
    "    # Remove stopwords\n",
    "    stop_words = set(stopwords.words('english'))\n",
    "    word_tokens = word_tokenize(text)\n",
    "    filtered_text = [word for word in word_tokens if word not in stop_words]\n",
    "    # Join filtered tokens\n",
    "    text = ' '.join(filtered_text)\n",
    "    lemmatizer = WordNetLemmatizer()\n",
    "    lemmatized_tokens = [lemmatizer.lemmatize(word) for word in text]\n",
    "\n",
    "    # Join lemmatized tokens back into text\n",
    "    preprocessed_text = ' '.join(lemmatized_tokens)\n",
    "    return text\n",
    "# Apply preprocessing to the text data\n",
    "fd['Tweet'] = fd['tweet'].apply(preprocess_text)\n",
    "fd.head()"
   ]
  },
  {
   "cell_type": "code",
   "execution_count": 27,
   "id": "c806f813",
   "metadata": {},
   "outputs": [],
   "source": [
    "vectorizer = TfidfVectorizer(max_features=1000)"
   ]
  },
  {
   "cell_type": "code",
   "execution_count": 28,
   "id": "2c6f60a6",
   "metadata": {},
   "outputs": [],
   "source": [
    "X = fd['Tweet']\n",
    "X_new = vectorizer.fit_transform(X)"
   ]
  },
  {
   "cell_type": "code",
   "execution_count": 32,
   "id": "3fb688e2",
   "metadata": {},
   "outputs": [],
   "source": [
    "#y_pre = svm_classifier.predict(X_new)\n",
    "#y_pre"
   ]
  },
  {
   "cell_type": "code",
   "execution_count": null,
   "id": "54020573",
   "metadata": {},
   "outputs": [],
   "source": [
    "#y_prelog = model.predict(X_new)\n",
    "#y_prelog"
   ]
  },
  {
   "cell_type": "code",
   "execution_count": 52,
   "id": "262e79d9",
   "metadata": {},
   "outputs": [
    {
     "data": {
      "text/plain": [
       "array(['sexual_violence', 'sexual_violence', 'sexual_violence', ...,\n",
       "       'sexual_violence', 'sexual_violence', 'sexual_violence'],\n",
       "      dtype=object)"
      ]
     },
     "execution_count": 52,
     "metadata": {},
     "output_type": "execute_result"
    }
   ],
   "source": [
    "y_val = gbm_classifier.predict(X_new)\n",
    "y_val"
   ]
  },
  {
   "cell_type": "code",
   "execution_count": null,
   "id": "9aa4578c",
   "metadata": {},
   "outputs": [],
   "source": [
    "#submission_df = pd.DataFrame({'Tweet_ID': fd['Tweet_ID'], 'type': y_pre})\n",
    "\n",
    "# Define the CSV file path\n",
    "#csv_file_path = \"C:/Users/user/OneDrive/Documents/Data Science Projects/NLP projects/Gender Based Violence Tweet Classification/My_submission2.csv\"\n",
    "\n",
    "# Write the DataFrame to a CSV file\n",
    "#submission_df.to_csv(csv_file_path, index=False)\n",
    "\n",
    "#print(\"Submission file has been saved to\", csv_file_path)"
   ]
  },
  {
   "cell_type": "code",
   "execution_count": 53,
   "id": "8eb05bcc",
   "metadata": {},
   "outputs": [
    {
     "name": "stdout",
     "output_type": "stream",
     "text": [
      "Submission file has been saved to C:/Users/user/OneDrive/Documents/Data Science Projects/NLP projects/Gender Based Violence Tweet Classification/My_submission_gb.csv\n"
     ]
    }
   ],
   "source": [
    "submission_df = pd.DataFrame({'Tweet_ID': fd['Tweet_ID'], 'type': y_val})\n",
    "\n",
    "# Define the CSV file path\n",
    "csv_file_path = \"C:/Users/user/OneDrive/Documents/Data Science Projects/NLP projects/Gender Based Violence Tweet Classification/My_submission_gb.csv\"\n",
    "\n",
    "# Write the DataFrame to a CSV file\n",
    "submission_df.to_csv(csv_file_path, index=False)\n",
    "\n",
    "print(\"Submission file has been saved to\", csv_file_path)"
   ]
  },
  {
   "cell_type": "code",
   "execution_count": null,
   "id": "eb985a4d",
   "metadata": {},
   "outputs": [],
   "source": []
  }
 ],
 "metadata": {
  "kernelspec": {
   "display_name": "Python 3 (ipykernel)",
   "language": "python",
   "name": "python3"
  },
  "language_info": {
   "codemirror_mode": {
    "name": "ipython",
    "version": 3
   },
   "file_extension": ".py",
   "mimetype": "text/x-python",
   "name": "python",
   "nbconvert_exporter": "python",
   "pygments_lexer": "ipython3",
   "version": "3.9.12"
  }
 },
 "nbformat": 4,
 "nbformat_minor": 5
}
